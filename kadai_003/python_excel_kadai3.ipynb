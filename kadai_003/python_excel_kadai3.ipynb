{
  "nbformat": 4,
  "nbformat_minor": 0,
  "metadata": {
    "colab": {
      "provenance": []
    },
    "kernelspec": {
      "name": "python3",
      "display_name": "Python 3"
    },
    "language_info": {
      "name": "python"
    }
  },
  "cells": [
    {
      "cell_type": "code",
      "execution_count": 71,
      "metadata": {
        "id": "_ZeTw8WMTJj6"
      },
      "outputs": [],
      "source": [
        "# 「2022_年間売上表.xlsx」と「2023_年間売上表.xlsx」のSheet1のデータからデータフレームを作成し、データを連結\n",
        "\n",
        "# データ分析・操作用のライブラリpandasを\n",
        "# pdという短い名前で読み込みます\n",
        "import pandas as pd\n",
        "\n",
        "# Excelファイルを読み込んで編集するための関数load_workbookを\n",
        "# openpyxlライブラリからインポートします\n",
        "from openpyxl import load_workbook\n",
        "\n",
        "# openpyxl.stylesモジュールのPatternFillクラスをインポート\n",
        "from openpyxl.styles import PatternFill\n",
        "\n",
        "# 処理対象のファイル名のリストを格納\n",
        "file_list = ['2022_年間売上表.xlsx', '2023_年間売上表.xlsx']\n",
        "\n",
        "# 結合後のデータを格納するための空のデータフレームを作成\n",
        "df = pd.DataFrame()\n",
        "\n",
        "# ファイルを一つずつ処理する\n",
        "for file_name in file_list:\n",
        "    # Excelファイルを読み込む\n",
        "    temp_df = pd.read_excel(file_name)\n",
        "\n",
        "    # 列名を一旦正しく設定\n",
        "    temp_df.columns = ['売上年', '商品', '金額（千円）']\n",
        "\n",
        "    # 列の順番を入れ替え（中身も列ごと入れ替わる）\n",
        "    temp_df = temp_df[['商品', '売上年', '金額（千円）']]\n",
        "\n",
        "    # concat()でデータフレームを連結\n",
        "    df = pd.concat([df, temp_df], ignore_index=True)\n",
        "\n",
        "# 連結したデータを「商品」「売上年」ごとにグループ化する\n",
        "result = df.groupby(['商品', '売上年'])['金額（千円）'].sum().reset_index()\n",
        "\n",
        "# 列の順番を「商品」、「売上年」、「金額（千円）」の順に並べ替える\n",
        "result = result[['商品', '売上年', '金額（千円）']]\n",
        "\n",
        "# excelファイルを保存する\n",
        "result.to_excel('売上集計表.xlsx', index=False)\n",
        "\n",
        "# excelファイルを読み込む\n",
        "workbook = load_workbook('売上集計表.xlsx')\n",
        "\n",
        "# アクティブなシートを取得する\n",
        "ws = workbook.active\n",
        "\n",
        "# A1からC1までのセルを薄いグレー（#F2F2F2）に設定する\n",
        "fill = PatternFill(patternType='solid', fgColor='F2F2F2')\n",
        "ws['A1'].fill = fill\n",
        "ws['B1'].fill = fill\n",
        "ws['C1'].fill = fill\n",
        "\n",
        "# 変更を保存する\n",
        "workbook.save('売上集計表.xlsx')"
      ]
    }
  ]
}
{
  "nbformat": 4,
  "nbformat_minor": 0,
  "metadata": {
    "colab": {
      "provenance": []
    },
    "kernelspec": {
      "name": "python3",
      "display_name": "Python 3"
    },
    "language_info": {
      "name": "python"
    }
  },
  "cells": [
    {
      "cell_type": "code",
      "execution_count": 1,
      "metadata": {
        "id": "jXhL9V9K9xvW"
      },
      "outputs": [],
      "source": [
        "import pandas as pd\n",
        "\n",
        "# データフレームの作成\n",
        "df = pd.DataFrame({\n",
        "    '日付':\n",
        "      ['2023-05-17', '2023-05-18', '2023-05-19', '2023-05-20', '2023-05-21'],\n",
        "    '社員名': ['山田', '佐藤', '鈴木', '田中', '高橋'],\n",
        "    '売上': [100, 200, 150, 300, 250],\n",
        "    '部門': ['メーカー', '代理店', 'メーカー', '商社', '代理店'],\n",
        "})\n",
        "\n",
        "# 売上の平均を求めて新しい列「平均売上」を作成\n",
        "df['平均売上'] = df['売上'].mean()\n",
        "\n",
        "# 売上で分岐して業績ランクを求める関数「performance」を定義\n",
        "def performance(sales):\n",
        "    # 平均売上 + 50 以上の場合は「A」を結果として出す\n",
        "    if sales >= df['売上'].mean() + 50:\n",
        "        result = 'A'\n",
        "    # 平均売上 + 49 までの場合かつ平均売上 +0までの場合は「B」を結果として出す\n",
        "    elif sales >= df['売上'].mean() and sales <= df['売上'].mean() + 49:\n",
        "        result = 'B'\n",
        "    # 平均売上未満の場合は「C」を結果として出す\n",
        "    else:\n",
        "        result = 'C'\n",
        "    return result\n",
        "\n",
        "# 「業績ランク」列を作成し、関数「performance」を適用して値を設定\n",
        "df['業績ランク'] = df['売上'].apply(performance)\n",
        "\n",
        "# 業績Excelファイルを作成\n",
        "writer = pd.ExcelWriter('業績.xlsx')\n",
        "\n",
        "# DataFrameオブジェクトをExcelファイルに書き込む\n",
        "df.to_excel(writer, sheet_name='Sheet1', index=False)\n",
        "\n",
        "# Excelファイルを閉じる\n",
        "writer.close()"
      ]
    }
  ]
}